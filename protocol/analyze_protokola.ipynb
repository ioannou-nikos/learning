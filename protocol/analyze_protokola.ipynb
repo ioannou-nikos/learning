{
 "cells": [
  {
   "cell_type": "code",
   "execution_count": 1,
   "metadata": {},
   "outputs": [
    {
     "data": {
      "text/html": [
       "<div>\n",
       "<style>\n",
       "    .dataframe thead tr:only-child th {\n",
       "        text-align: right;\n",
       "    }\n",
       "\n",
       "    .dataframe thead th {\n",
       "        text-align: left;\n",
       "    }\n",
       "\n",
       "    .dataframe tbody tr th {\n",
       "        vertical-align: top;\n",
       "    }\n",
       "</style>\n",
       "<table border=\"1\" class=\"dataframe\">\n",
       "  <thead>\n",
       "    <tr style=\"text-align: right;\">\n",
       "      <th></th>\n",
       "      <th>ap</th>\n",
       "      <th>user</th>\n",
       "      <th>in_subject</th>\n",
       "      <th>out_subject</th>\n",
       "      <th>in_date</th>\n",
       "      <th>out_date</th>\n",
       "      <th>diff</th>\n",
       "    </tr>\n",
       "  </thead>\n",
       "  <tbody>\n",
       "    <tr>\n",
       "      <th>0</th>\n",
       "      <td>1</td>\n",
       "      <td>Διεύθυνση Τεχνικών Έργων Μ.Ε. Θεσσαλονίκης</td>\n",
       "      <td>NaN</td>\n",
       "      <td>ΒΕΒΑΙΩΣΗ ΑΝΕΛΛΙΠΟΥΣ ΕΚΤΕΛΕΣΗΣ ΚΑΘΗΚΟΝΤΩΝ ΤΩΝ Υ...</td>\n",
       "      <td>2017-01-02</td>\n",
       "      <td>2017-01-02</td>\n",
       "      <td>0.0</td>\n",
       "    </tr>\n",
       "    <tr>\n",
       "      <th>1</th>\n",
       "      <td>2</td>\n",
       "      <td>Διεύθυνση Μεταφορών και Επικοινωνιών Π.Ε. Ημαθίας</td>\n",
       "      <td>ΕΝΗΜΕΡΩΣΗ ΓΙΑ ΕΚΔΟΣΗ Ν.4440/2016</td>\n",
       "      <td>ΕΝΗΜΕΡΩΣΗ ΓΙΑ ΕΚΔΟΣΗ Ν.4440/2016</td>\n",
       "      <td>2017-01-02</td>\n",
       "      <td>2017-01-02</td>\n",
       "      <td>0.0</td>\n",
       "    </tr>\n",
       "    <tr>\n",
       "      <th>2</th>\n",
       "      <td>3</td>\n",
       "      <td>Διεύθυνση Μεταφορών και Επικοινωνιών Π.Ε. Ημαθίας</td>\n",
       "      <td>ΑΠΟΦΑΣΗ ΟΡΙΣΜΟΥ ΜΕΛΩΝ ΥΠ. ΣΥΜΒΟΥΛΙΟΥ</td>\n",
       "      <td>ΑΠΟΦΑΣΗ ΟΡΙΣΜΟΥ ΜΕΛΩΝ ΥΠ. ΣΥΜΒΟΥΛΙΟΥ</td>\n",
       "      <td>2017-01-02</td>\n",
       "      <td>2017-01-02</td>\n",
       "      <td>0.0</td>\n",
       "    </tr>\n",
       "    <tr>\n",
       "      <th>3</th>\n",
       "      <td>4</td>\n",
       "      <td>Διεύθυνση Μεταφορών και Επικοινωνιών Π.Ε. Ημαθίας</td>\n",
       "      <td>ΑΠΟΣΤΟΛΗ ΑΔΕΙΑΣ ΟΔΗΓΗΣΗΣ ΤΟΥ ΙΤΟΠΟΥΛΟΥ ΝΙΚΟΛΑΟΥ</td>\n",
       "      <td>ΑΠΟΣΤΟΛΗ ΑΔΕΙΑΣ ΟΔΗΓΗΣΗΣ ΤΟΥ ΙΤΟΠΟΥΛΟΥ ΝΙΚΟΛΑΟΥ</td>\n",
       "      <td>2017-01-02</td>\n",
       "      <td>2017-01-02</td>\n",
       "      <td>0.0</td>\n",
       "    </tr>\n",
       "    <tr>\n",
       "      <th>4</th>\n",
       "      <td>5</td>\n",
       "      <td>Διεύθυνση Μεταφορών και Επικοινωνιών Π.Ε. Σερρών</td>\n",
       "      <td>ΝΑΚ ΦΙΧ</td>\n",
       "      <td>NaN</td>\n",
       "      <td>2017-01-02</td>\n",
       "      <td>2017-01-02</td>\n",
       "      <td>0.0</td>\n",
       "    </tr>\n",
       "  </tbody>\n",
       "</table>\n",
       "</div>"
      ],
      "text/plain": [
       "   ap                                               user  \\\n",
       "0   1         Διεύθυνση Τεχνικών Έργων Μ.Ε. Θεσσαλονίκης   \n",
       "1   2  Διεύθυνση Μεταφορών και Επικοινωνιών Π.Ε. Ημαθίας   \n",
       "2   3  Διεύθυνση Μεταφορών και Επικοινωνιών Π.Ε. Ημαθίας   \n",
       "3   4  Διεύθυνση Μεταφορών και Επικοινωνιών Π.Ε. Ημαθίας   \n",
       "4   5   Διεύθυνση Μεταφορών και Επικοινωνιών Π.Ε. Σερρών   \n",
       "\n",
       "                                        in_subject  \\\n",
       "0                                              NaN   \n",
       "1                 ΕΝΗΜΕΡΩΣΗ ΓΙΑ ΕΚΔΟΣΗ Ν.4440/2016   \n",
       "2             ΑΠΟΦΑΣΗ ΟΡΙΣΜΟΥ ΜΕΛΩΝ ΥΠ. ΣΥΜΒΟΥΛΙΟΥ   \n",
       "3  ΑΠΟΣΤΟΛΗ ΑΔΕΙΑΣ ΟΔΗΓΗΣΗΣ ΤΟΥ ΙΤΟΠΟΥΛΟΥ ΝΙΚΟΛΑΟΥ   \n",
       "4                                          ΝΑΚ ΦΙΧ   \n",
       "\n",
       "                                         out_subject    in_date   out_date  \\\n",
       "0  ΒΕΒΑΙΩΣΗ ΑΝΕΛΛΙΠΟΥΣ ΕΚΤΕΛΕΣΗΣ ΚΑΘΗΚΟΝΤΩΝ ΤΩΝ Υ... 2017-01-02 2017-01-02   \n",
       "1                   ΕΝΗΜΕΡΩΣΗ ΓΙΑ ΕΚΔΟΣΗ Ν.4440/2016 2017-01-02 2017-01-02   \n",
       "2               ΑΠΟΦΑΣΗ ΟΡΙΣΜΟΥ ΜΕΛΩΝ ΥΠ. ΣΥΜΒΟΥΛΙΟΥ 2017-01-02 2017-01-02   \n",
       "3    ΑΠΟΣΤΟΛΗ ΑΔΕΙΑΣ ΟΔΗΓΗΣΗΣ ΤΟΥ ΙΤΟΠΟΥΛΟΥ ΝΙΚΟΛΑΟΥ 2017-01-02 2017-01-02   \n",
       "4                                                NaN 2017-01-02 2017-01-02   \n",
       "\n",
       "   diff  \n",
       "0   0.0  \n",
       "1   0.0  \n",
       "2   0.0  \n",
       "3   0.0  \n",
       "4   0.0  "
      ]
     },
     "execution_count": 1,
     "metadata": {},
     "output_type": "execute_result"
    }
   ],
   "source": [
    "import pandas as pd\n",
    "import main\n",
    "\n",
    "df = main.read_data_file(skip_footer=489000)\n",
    "df.head()"
   ]
  },
  {
   "cell_type": "code",
   "execution_count": 6,
   "metadata": {},
   "outputs": [
    {
     "data": {
      "text/plain": [
       "1868"
      ]
     },
     "execution_count": 6,
     "metadata": {},
     "output_type": "execute_result"
    }
   ],
   "source": [
    "# Δημιουργούμε ένα πίνακα με τα ονόματα το Περιφερειακών Ενοτήτων\n",
    "enotites = ['Ημαθία', 'Θεσσα', 'Κιλκί', 'Πέλ', 'Πιερ', 'Σερρ', 'Χαλκ']\n",
    "users = df['user']\n",
    "len(users)"
   ]
  }
 ],
 "metadata": {
  "kernelspec": {
   "display_name": "Python 3",
   "language": "python",
   "name": "python3"
  },
  "language_info": {
   "codemirror_mode": {
    "name": "ipython",
    "version": 3
   },
   "file_extension": ".py",
   "mimetype": "text/x-python",
   "name": "python",
   "nbconvert_exporter": "python",
   "pygments_lexer": "ipython3",
   "version": "3.6.1"
  }
 },
 "nbformat": 4,
 "nbformat_minor": 2
}
